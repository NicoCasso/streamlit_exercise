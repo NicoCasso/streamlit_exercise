{
 "cells": [
  {
   "cell_type": "markdown",
   "metadata": {},
   "source": [
    "Modalités pédagogiques\n",
    "\n",
    "Fonctionnalités obligatoires\n"
   ]
  },
  {
   "cell_type": "markdown",
   "metadata": {},
   "source": [
    "\n",
    "    Page de création de quiz\n",
    "    Permettre à l’utilisateur d’ajouter une question avec plusieurs réponses possibles.\n",
    "    Enregistrer les questions et réponses dans un fichier `JSON`.\n",
    "    Les questions doivent être validées en utilisant un modèle PYDANTIC.\n"
   ]
  },
  {
   "cell_type": "markdown",
   "metadata": {},
   "source": [
    "\n",
    "    Page de quiz interactif\n",
    "    Afficher les questions une par une à l’utilisateur.\n",
    "    Enregistrer les réponses sélectionnées.\n",
    "    Afficher un écran final récapitulant :\n",
    "    Le nombre de bonnes réponses.\n",
    "    Un bouton permettant de réinitialiser le quiz et recommencer.\n"
   ]
  },
  {
   "cell_type": "markdown",
   "metadata": {},
   "source": [
    "\n",
    "    Répondre aux questions :\n",
    "    Quelle est la limite d'utiliser un fichier plat dans l'application ?\n",
    "    Quelle serait la prochaine étape pour scaler l'application ?\n"
   ]
  },
  {
   "cell_type": "markdown",
   "metadata": {},
   "source": [
    "\n",
    "Bonus pour aller plus loin\n",
    "\n",
    "    Ajout de thèmes pour le quiz :\n",
    "    Permettre à l’utilisateur de sélectionner un thème avant de commencer le quiz (ex. : Sciences, Histoire, Culture Générale).\n",
    "    Filtrer les questions affichées en fonction du thème choisi.\n",
    "\n",
    "    Affichage d’un résumé détaillé :\n",
    "    À l’écran final, afficher pour chaque question :\n",
    "    La question posée.\n",
    "    La réponse sélectionnée par l’utilisateur.\n",
    "    La bonne réponse.\n",
    "\n",
    "    Ajout d’un minuteur :\n",
    "    Ajouter une contrainte de temps pour répondre à chaque question.\n",
    "    Passer automatiquement à la question suivante si le temps est écoulé, sans accorder de point.\n"
   ]
  },
  {
   "cell_type": "markdown",
   "metadata": {},
   "source": [
    "\n",
    "Modalités d'évaluation\n",
    "\n",
    "Travail individuel sur deux jours.  \n"
   ]
  },
  {
   "cell_type": "markdown",
   "metadata": {},
   "source": [
    "\n",
    "Évaluation basée sur :  \n",
    "- Respect des fonctionnalités minimales demandées.  \n",
    "- Qualité de l’interface utilisateur.  \n",
    "- Qualité du code (lisibilité, organisation, documentation). \n"
   ]
  },
  {
   "cell_type": "markdown",
   "metadata": {},
   "source": [
    "Livrables\n",
    "\n",
    "1. Code source Python : clair, documenté, organisé.  \n",
    "2. Les réponses aux questions\n",
    "3. README.md décrivant :  \n",
    "- Comment installer les dépendances et lancer l’application.  \n",
    "- Les fonctionnalités principales et bonus implémentés.  \n",
    "- Les choix techniques ou éventuelles limitations.  \n",
    "Critères de performance\n"
   ]
  },
  {
   "cell_type": "markdown",
   "metadata": {},
   "source": [
    "\n",
    "Fonctionnalités obligatoires respectées et fonctionnelles.  \n"
   ]
  },
  {
   "cell_type": "markdown",
   "metadata": {},
   "source": [
    "Interface utilisateur intuitive.  \n",
    "Qualité du code :  \n",
    "- Structuration et modularité.  \n",
    "- Documentation (docstrings, commentaires).\n",
    "(Bonus) Fonctionnalités additionnelles fonctionnelles et bien intégrées.  \n",
    "\n",
    "\n"
   ]
  },
  {
   "cell_type": "markdown",
   "metadata": {},
   "source": []
  },
  {
   "cell_type": "code",
   "execution_count": 1,
   "metadata": {},
   "outputs": [
    {
     "name": "stderr",
     "output_type": "stream",
     "text": [
      "2024-11-17 15:30:16.908 WARNING streamlit.runtime.scriptrunner_utils.script_run_context: Thread 'MainThread': missing ScriptRunContext! This warning can be ignored when running in bare mode.\n",
      "2024-11-17 15:30:17.137 \n",
      "  \u001b[33m\u001b[1mWarning:\u001b[0m to view this Streamlit app on a browser, run it with the following\n",
      "  command:\n",
      "\n",
      "    streamlit run c:\\Users\\Nicolas\\Desktop\\Codes\\Python\\FromUbuntu\\.venv\\Lib\\site-packages\\ipykernel_launcher.py [ARGUMENTS]\n",
      "2024-11-17 15:30:17.139 Thread 'MainThread': missing ScriptRunContext! This warning can be ignored when running in bare mode.\n",
      "2024-11-17 15:30:17.139 Thread 'MainThread': missing ScriptRunContext! This warning can be ignored when running in bare mode.\n",
      "2024-11-17 15:30:17.139 Thread 'MainThread': missing ScriptRunContext! This warning can be ignored when running in bare mode.\n"
     ]
    }
   ],
   "source": [
    "import streamlit as st\n",
    "\n",
    "st.write(\"Hell of Fire\")\n"
   ]
  },
  {
   "cell_type": "code",
   "execution_count": 5,
   "metadata": {},
   "outputs": [],
   "source": [
    "from pydantic import BaseModel\n",
    "\n",
    "class Answer(BaseModel):\n",
    "    answer_id : int\n",
    "    answer_text : str\n",
    "    is_correct : bool\n",
    "\n",
    "class Question(BaseModel) :\n",
    "    question_id : int\n",
    "    question_text : str\n",
    "    answers : list[Answer]\n",
    "\n",
    "class Quiz(BaseModel) :\n",
    "    questions : list[Question]\n",
    "    "
   ]
  },
  {
   "cell_type": "code",
   "execution_count": 4,
   "metadata": {},
   "outputs": [],
   "source": [
    "from pydantic import BaseModel\n",
    "from pydanticclasses import *\n",
    "\n",
    "\n",
    "answer1 = Answer(answer_id =1, answer_text = \"Bleu\", is_correct= False) \n",
    "answer2 = Answer(answer_id =2, answer_text = \"Blanc\", is_correct= True)\n",
    "answer3 = Answer(answer_id =3, answer_text = \"Rouge\", is_correct= False)\n",
    "\n",
    "answers1 = [answer1, answer2, answer2]\n",
    "\n",
    "question1 = Question(question_id = 1,  \n",
    "    question_text = \"Quelle est la couleur du cheval d'Henry IV ?\", \n",
    "    answers = answers1)\n",
    "\n",
    "# question1.answers.append(answer2)\n",
    "# question1.answers.append(answer3)\n",
    "\n",
    "# quiz = Quiz(questions = [])\n",
    "\n",
    "# question1.anwers = [answer1, answer2, answer3]\n",
    "# quiz.questions = [question1]\n",
    "\n",
    "\n",
    "# print(quiz.model_dump())"
   ]
  }
 ],
 "metadata": {
  "kernelspec": {
   "display_name": ".venv",
   "language": "python",
   "name": "python3"
  },
  "language_info": {
   "codemirror_mode": {
    "name": "ipython",
    "version": 3
   },
   "file_extension": ".py",
   "mimetype": "text/x-python",
   "name": "python",
   "nbconvert_exporter": "python",
   "pygments_lexer": "ipython3",
   "version": "3.11.3"
  }
 },
 "nbformat": 4,
 "nbformat_minor": 2
}
